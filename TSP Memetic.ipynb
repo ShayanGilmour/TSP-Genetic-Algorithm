{
 "cells": [
  {
   "cell_type": "code",
   "execution_count": 6,
   "metadata": {},
   "outputs": [],
   "source": [
    "import random\n",
    "import math\n",
    "\n",
    "#Preprocess\n",
    "\n",
    "INF = int(1e10)\n",
    "n = 29\n",
    "\n",
    "edges = [[0 for i in range(n)] for j in range(n)]\n",
    "gen = [] #Current generation of permutations"
   ]
  },
  {
   "cell_type": "code",
   "execution_count": 7,
   "metadata": {},
   "outputs": [
    {
     "data": {
      "text/plain": [
       "'Input'"
      ]
     },
     "execution_count": 7,
     "metadata": {},
     "output_type": "execute_result"
    }
   ],
   "source": [
    "#Input\n",
    "\n",
    "file1 = open('Desktop/bayg29.tsp', 'r') \n",
    "Lines = file1.readlines() \n",
    "  \n",
    "i = 0\n",
    "for line in Lines: \n",
    "    tmp = line.split()\n",
    "    for j in range(n-i-1):\n",
    "        edges[i][j+i+1] = int(tmp[j])\n",
    "        edges[j+i+1][i] = int(tmp[j])\n",
    "    i=i+1\n",
    "\n",
    "#print(edges)\n",
    "\"\"\"\n",
    "file1 = open('Desktop/bayg29.tsp', 'r') \n",
    "Lines = file1.readlines() \n",
    "\n",
    "for line in Lines:\n",
    "    i, x, y = line.split()\n",
    "    x, y = float(x), float(y)\n",
    "    i = int(i)\n",
    "    i = i-1\n",
    "    cor[i].append(x)\n",
    "    cor[i].append(y)\n",
    "\n",
    "for i in range(n):\n",
    "    for j in range(n):\n",
    "        edges[i][j] = math.sqrt((cor[i][0]-cor[j][0])**2 + (cor[i][1]-cor[j][1])**2 )\n",
    "\"\"\"\n",
    "\"\"\"Input\"\"\""
   ]
  },
  {
   "cell_type": "code",
   "execution_count": 8,
   "metadata": {},
   "outputs": [],
   "source": [
    "#functions\n",
    "\n",
    "def fitness(a):\n",
    "    #returns the fitness of the permutation a\n",
    "    fit = int(0)\n",
    "    for i in range(0, len(a)-1):\n",
    "        fit = fit+edges[a[i]][a[i+1]]\n",
    "    fit = fit+edges[a[len(a)-1]][a[0]] #back to the first node\n",
    "    \n",
    "    return fit\n",
    "\n",
    "def randomPermutation():\n",
    "    a = [i for i in range(n)]\n",
    "    random.shuffle(a)\n",
    "    return a\n",
    "\n",
    "def Reverse(lst): \n",
    "    return [ele for ele in reversed(lst)] \n",
    "\n",
    "def Crossover(x, y):\n",
    "    i = random.choice(range(n))\n",
    "    j = random.choice(range(n))\n",
    "    mark = [0]*n\n",
    "\n",
    "    newx = [0]*n\n",
    "    \n",
    "    for k in range(i, j+1):\n",
    "        newx[k] = x[k]\n",
    "        mark[x[k]] = 1;\n",
    "\n",
    "        \n",
    "    pold = (j+1)%n\n",
    "    pnew = pold\n",
    "    \n",
    "    for u in range(n):\n",
    "        if mark[y[pold]] == 1:\n",
    "            pold = pold+1\n",
    "            pold = pold%n\n",
    "            continue\n",
    "        \n",
    "        if newx[pnew] == True:\n",
    "            break;\n",
    "        \n",
    "        newx[pnew] = y[pold]\n",
    "        mark[y[pold]] = 1\n",
    "        pold, pnew = pold+1, pnew+1\n",
    "        pold, pnew = pold%n, pnew%n\n",
    "        \n",
    "    return newx\n",
    "\n",
    "def nearBest(x):\n",
    "    best = x\n",
    "    bestFit = fitness(x)\n",
    "    for i in range(n):\n",
    "        for j in range(i+1, min(n, i+1)):\n",
    "            if i != j:\n",
    "                x[i], x[j] = x[j], x[i]\n",
    "                if fitness(x) < bestFit:\n",
    "                    bestFit = fitness(x)\n",
    "                    best = x[:]\n",
    "                \n",
    "                x[i], x[j] = x[j], x[i] #back to original x\n",
    "    return best"
   ]
  },
  {
   "cell_type": "code",
   "execution_count": 9,
   "metadata": {},
   "outputs": [],
   "source": [
    "#Generating the primary generation\n",
    "m = 2000\n",
    "\n",
    "gen = []\n",
    "for _ in range(m):\n",
    "    gen.append(randomPermutation())\n",
    "len(gen)\n",
    "m = 200\n",
    "\n",
    "history = []"
   ]
  },
  {
   "cell_type": "code",
   "execution_count": 10,
   "metadata": {},
   "outputs": [
    {
     "name": "stdout",
     "output_type": "stream",
     "text": [
      "I:  0  fitness:  4929\n",
      "I:  10  fitness:  2505\n",
      "I:  20  fitness:  2144\n",
      "I:  30  fitness:  1785\n",
      "I:  40  fitness:  1748\n",
      "I:  50  fitness:  1671\n",
      "I:  60  fitness:  1668\n",
      "I:  70  fitness:  1668\n",
      "I:  80  fitness:  1668\n",
      "I:  90  fitness:  1668\n",
      "1668\n",
      "[12, 9, 19, 1, 20, 4, 28, 2, 25, 8, 11, 5, 27, 0, 23, 7, 26, 22, 6, 24, 14, 3, 17, 13, 16, 21, 10, 18, 15]\n"
     ]
    }
   ],
   "source": [
    "#Crossover and Mutations\n",
    "\n",
    "mRate = 1 #Rate of Mutation\n",
    "\n",
    "replaceRate = 0.8\n",
    "\n",
    "for _ in range(100):\n",
    "    if _%10==0:\n",
    "        print(\"I: \", _, \" fitness: \", fitness(gen[0]))\n",
    "        history.append(fitness(gen[0]))    \n",
    "        \n",
    "    newgen = []        \n",
    "    for u in range(m*2):\n",
    "        x = random.choice(gen)\n",
    "        y = random.choice(gen)\n",
    "        newgen.append(Crossover(x, y))\n",
    "\n",
    "    tmp = int(mRate*100)\n",
    "    for x in gen:\n",
    "        chance = random.choice(range(101))\n",
    "        if chance >= tmp:\n",
    "            continue\n",
    "\n",
    "        i = random.choice(range(n))\n",
    "        j = random.choice(range(n))\n",
    "        newy = x[:]\n",
    "        newy[i], newy[j] = newy[j], newy[i]\n",
    "        newgen.append(newy)\n",
    "    \n",
    "    for i in range(len(gen)):\n",
    "        t = nearBest(gen[i][:])\n",
    "        chance = random.choice(range(101))\n",
    "        if (chance <= int(replaceRate*100)):\n",
    "            gen[i] = t[:]\n",
    "    \n",
    "    for x in newgen:\n",
    "        gen.append(x)\n",
    "    \n",
    "    gen = sorted(gen, key = fitness)\n",
    "    gen = gen[:m]\n",
    "\n",
    "   \n",
    "print(fitness(gen[0]))\n",
    "print(gen[0])"
   ]
  },
  {
   "cell_type": "code",
   "execution_count": 11,
   "metadata": {},
   "outputs": [
    {
     "name": "stdout",
     "output_type": "stream",
     "text": [
      "[4929, 2505, 2144, 1785, 1748, 1671, 1668, 1668, 1668, 1668]\n"
     ]
    }
   ],
   "source": [
    "print(history)"
   ]
  },
  {
   "cell_type": "code",
   "execution_count": 232,
   "metadata": {},
   "outputs": [
    {
     "name": "stdout",
     "output_type": "stream",
     "text": [
      "[3, 14, 17, 13, 16, 21, 10, 24, 6, 22, 26, 7, 23, 12, 9, 19, 1, 20, 28, 2, 25, 4, 8, 11, 5, 27, 0, 15, 18]\n"
     ]
    }
   ],
   "source": [
    "print(gen[0])"
   ]
  }
 ],
 "metadata": {
  "kernelspec": {
   "display_name": "Python 3",
   "language": "python",
   "name": "python3"
  },
  "language_info": {
   "codemirror_mode": {
    "name": "ipython",
    "version": 3
   },
   "file_extension": ".py",
   "mimetype": "text/x-python",
   "name": "python",
   "nbconvert_exporter": "python",
   "pygments_lexer": "ipython3",
   "version": "3.8.10"
  }
 },
 "nbformat": 4,
 "nbformat_minor": 4
}
