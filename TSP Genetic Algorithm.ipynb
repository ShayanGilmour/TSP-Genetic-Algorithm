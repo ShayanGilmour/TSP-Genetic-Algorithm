{
 "cells": [
  {
   "cell_type": "code",
   "execution_count": 1,
   "metadata": {},
   "outputs": [],
   "source": [
    "import random\n",
    "import math\n",
    "\n",
    "#Preprocess\n",
    "\n",
    "INF = int(1e10)\n",
    "n = 29\n",
    "\n",
    "edges = [[0 for i in range(n)] for j in range(n)]\n",
    "gen = [] #Current generation of permutations"
   ]
  },
  {
   "cell_type": "code",
   "execution_count": 2,
   "metadata": {},
   "outputs": [
    {
     "name": "stdout",
     "output_type": "stream",
     "text": [
      "[[0, 97, 205, 139, 86, 60, 220, 65, 111, 115, 227, 95, 82, 225, 168, 103, 266, 205, 149, 120, 58, 257, 152, 52, 180, 136, 82, 34, 145], [97, 0, 129, 103, 71, 105, 258, 154, 112, 65, 204, 150, 87, 176, 137, 142, 204, 148, 148, 49, 41, 211, 226, 116, 197, 89, 153, 124, 74], [205, 129, 0, 219, 125, 175, 386, 269, 134, 184, 313, 201, 215, 267, 248, 271, 274, 236, 272, 160, 151, 300, 350, 239, 322, 78, 276, 220, 60], [139, 103, 219, 0, 167, 182, 180, 162, 208, 39, 102, 227, 60, 86, 34, 96, 129, 69, 58, 60, 120, 119, 192, 114, 110, 192, 136, 173, 173], [86, 71, 125, 167, 0, 51, 296, 150, 42, 131, 268, 88, 131, 245, 201, 175, 275, 218, 202, 119, 50, 281, 238, 131, 244, 51, 166, 95, 69], [60, 105, 175, 182, 51, 0, 279, 114, 56, 150, 278, 46, 133, 266, 214, 162, 302, 242, 203, 146, 67, 300, 205, 111, 238, 98, 139, 52, 120], [220, 258, 386, 180, 296, 279, 0, 178, 328, 206, 147, 308, 172, 203, 165, 121, 251, 216, 122, 231, 249, 209, 111, 169, 72, 338, 144, 237, 331], [65, 154, 269, 162, 150, 114, 178, 0, 169, 151, 227, 133, 104, 242, 182, 84, 290, 230, 146, 165, 121, 270, 91, 48, 158, 200, 39, 64, 210], [111, 112, 134, 208, 42, 56, 328, 169, 0, 172, 309, 68, 169, 286, 242, 208, 315, 259, 240, 160, 90, 322, 260, 160, 281, 57, 192, 107, 90], [115, 65, 184, 39, 131, 150, 206, 151, 172, 0, 140, 195, 51, 117, 72, 104, 153, 93, 88, 25, 85, 152, 200, 104, 139, 154, 134, 149, 135], [227, 204, 313, 102, 268, 278, 147, 227, 309, 140, 0, 320, 146, 64, 68, 143, 106, 88, 81, 159, 219, 63, 216, 187, 88, 293, 191, 258, 272], [95, 150, 201, 227, 88, 46, 308, 133, 68, 195, 320, 0, 174, 311, 258, 196, 347, 288, 243, 192, 113, 345, 222, 144, 274, 124, 165, 71, 153], [82, 87, 215, 60, 131, 133, 172, 104, 169, 51, 146, 174, 0, 144, 86, 57, 189, 128, 71, 71, 82, 176, 150, 56, 114, 168, 83, 115, 160], [225, 176, 267, 86, 245, 266, 203, 242, 286, 117, 64, 311, 144, 0, 61, 165, 51, 32, 105, 127, 201, 36, 254, 196, 136, 260, 212, 258, 234], [168, 137, 248, 34, 201, 214, 165, 182, 242, 72, 68, 258, 86, 61, 0, 106, 110, 56, 49, 91, 153, 91, 197, 136, 94, 225, 151, 201, 205], [103, 142, 271, 96, 175, 162, 121, 84, 208, 104, 143, 196, 57, 165, 106, 0, 215, 159, 64, 126, 128, 190, 98, 53, 78, 218, 48, 127, 214], [266, 204, 274, 129, 275, 302, 251, 290, 315, 153, 106, 347, 189, 51, 110, 215, 0, 61, 155, 157, 235, 47, 305, 243, 186, 282, 261, 300, 252], [205, 148, 236, 69, 218, 242, 216, 230, 259, 93, 88, 288, 128, 32, 56, 159, 61, 0, 105, 100, 176, 66, 253, 183, 146, 231, 203, 239, 204], [149, 148, 272, 58, 202, 203, 122, 146, 240, 88, 81, 243, 71, 105, 49, 64, 155, 105, 0, 113, 152, 127, 150, 106, 52, 235, 112, 179, 221], [120, 49, 160, 60, 119, 146, 231, 165, 160, 25, 159, 192, 71, 127, 91, 126, 157, 100, 113, 0, 79, 163, 220, 119, 164, 135, 152, 153, 114], [58, 41, 151, 120, 50, 67, 249, 121, 90, 85, 219, 113, 82, 201, 153, 128, 235, 176, 152, 79, 0, 236, 201, 90, 195, 90, 127, 84, 91], [257, 211, 300, 119, 281, 300, 209, 270, 322, 152, 63, 345, 176, 36, 91, 190, 47, 66, 127, 163, 236, 0, 273, 226, 148, 296, 238, 291, 269], [152, 226, 350, 192, 238, 205, 111, 91, 260, 200, 216, 222, 150, 254, 197, 98, 305, 253, 150, 220, 201, 273, 0, 112, 130, 286, 74, 155, 291], [52, 116, 239, 114, 131, 111, 169, 48, 160, 104, 187, 144, 56, 196, 136, 53, 243, 183, 106, 119, 90, 226, 112, 0, 130, 178, 38, 75, 180], [180, 197, 322, 110, 244, 238, 72, 158, 281, 139, 88, 274, 114, 136, 94, 78, 186, 146, 52, 164, 195, 148, 130, 130, 0, 281, 120, 205, 270], [136, 89, 78, 192, 51, 98, 338, 200, 57, 154, 293, 124, 168, 260, 225, 218, 282, 231, 235, 135, 90, 296, 286, 178, 281, 0, 213, 145, 36], [82, 153, 276, 136, 166, 139, 144, 39, 192, 134, 191, 165, 83, 212, 151, 48, 261, 203, 112, 152, 127, 238, 74, 38, 120, 213, 0, 94, 217], [34, 124, 220, 173, 95, 52, 237, 64, 107, 149, 258, 71, 115, 258, 201, 127, 300, 239, 179, 153, 84, 291, 155, 75, 205, 145, 94, 0, 162], [145, 74, 60, 173, 69, 120, 331, 210, 90, 135, 272, 153, 160, 234, 205, 214, 252, 204, 221, 114, 91, 269, 291, 180, 270, 36, 217, 162, 0]]\n"
     ]
    },
    {
     "data": {
      "text/plain": [
       "'Input'"
      ]
     },
     "execution_count": 2,
     "metadata": {},
     "output_type": "execute_result"
    }
   ],
   "source": [
    "#Input\n",
    "\n",
    "\n",
    "file1 = open('Desktop/bayg29.tsp', 'r') \n",
    "Lines = file1.readlines() \n",
    "  \n",
    "i = 0\n",
    "for line in Lines: \n",
    "    tmp = line.split()\n",
    "    for j in range(n-i-1):\n",
    "        edges[i][j+i+1] = int(tmp[j])\n",
    "        edges[j+i+1][i] = int(tmp[j])\n",
    "    i=i+1\n",
    "\n",
    "print(edges)\n",
    "\n",
    "\n",
    "\"\"\"\n",
    "cor = [[] for i in range(n+2)]\n",
    "file1 = open('Desktop/bayg29.tsp', 'r') \n",
    "Lines = file1.readlines()\n",
    "\n",
    "for line in Lines:\n",
    "    i, x, y = line.split()\n",
    "    x, y = float(x), float(y)\n",
    "    i = int(i)\n",
    "    cor[i].append(x)\n",
    "    cor[i].append(y)\n",
    "\n",
    "cor = cor[1:30]\n",
    "\n",
    "for i in range(n):\n",
    "    for j in range(n):\n",
    "        edges[i][j] = ((cor[i][0]-cor[j][0])**2 + (cor[i][1]-cor[j][1])**2)**(0.5)\n",
    "\n",
    "print(cor)\n",
    "\"\"\"\n",
    "\"\"\"\n",
    "file1 = open('Desktop/bayg29.tsp', 'r') \n",
    "Lines = file1.readlines() \n",
    "\n",
    "for line in Lines:\n",
    "    i, x, y = line.split()\n",
    "    x, y = float(x), float(y)\n",
    "    i = int(i)\n",
    "    i = i-1\n",
    "    cor[i].append(x)\n",
    "    cor[i].append(y)\n",
    "\n",
    "for i in range(n):\n",
    "    for j in range(n):\n",
    "        edges[i][j] = math.sqrt((cor[i][0]-cor[j][0])**2 + (cor[i][1]-cor[j][1])**2 )\n",
    "\"\"\"\n",
    "\"\"\"Input\"\"\""
   ]
  },
  {
   "cell_type": "code",
   "execution_count": 3,
   "metadata": {},
   "outputs": [],
   "source": [
    "#functions\n",
    "\n",
    "def fitness(a):\n",
    "    #returns the fitness of the permutation a\n",
    "    fit = int(0)\n",
    "    for i in range(0, len(a)-1):\n",
    "        fit = fit+edges[a[i]][a[i+1]]\n",
    "    fit = fit+edges[a[len(a)-1]][a[0]] #back to the first node\n",
    "    \n",
    "    return fit\n",
    "\n",
    "def randomPermutation():\n",
    "    a = [i for i in range(n)]\n",
    "    random.shuffle(a)\n",
    "    return a\n",
    "\n",
    "def Reverse(lst): \n",
    "    return [ele for ele in reversed(lst)] \n",
    "\n",
    "def Crossover(x, y):\n",
    "    i = random.choice(range(n))\n",
    "    j = random.choice(range(n))\n",
    "    mark = [0]*n\n",
    "\n",
    "    newx = [0]*n\n",
    "    \n",
    "    for k in range(i, j+1):\n",
    "        newx[k] = x[k]\n",
    "        mark[x[k]] = 1;\n",
    "\n",
    "        \n",
    "    pold = (j+1)%n\n",
    "    pnew = pold\n",
    "    \n",
    "    for u in range(n):\n",
    "        if mark[y[pold]] == 1:\n",
    "            pold = pold+1\n",
    "            pold = pold%n\n",
    "            continue\n",
    "        \n",
    "        if newx[pnew] == True:\n",
    "            break;\n",
    "        \n",
    "        newx[pnew] = y[pold]\n",
    "        mark[y[pold]] = 1\n",
    "        pold, pnew = pold+1, pnew+1\n",
    "        pold, pnew = pold%n, pnew%n\n",
    "        \n",
    "    return newx"
   ]
  },
  {
   "cell_type": "code",
   "execution_count": 4,
   "metadata": {},
   "outputs": [],
   "source": [
    "#Generating the primary generation\n",
    "m = 100\n",
    "\n",
    "gen = []\n",
    "for _ in range(m):\n",
    "    gen.append(randomPermutation())\n",
    "len(gen)\n",
    "m = 3000\n",
    "\n",
    "history = []"
   ]
  },
  {
   "cell_type": "code",
   "execution_count": 5,
   "metadata": {
    "scrolled": false
   },
   "outputs": [
    {
     "name": "stdout",
     "output_type": "stream",
     "text": [
      "I:  0  fitness:  4547\n",
      "I:  50  fitness:  1618\n",
      "I:  100  fitness:  1610\n",
      "I:  150  fitness:  1610\n"
     ]
    },
    {
     "ename": "KeyboardInterrupt",
     "evalue": "",
     "output_type": "error",
     "traceback": [
      "\u001b[0;31m---------------------------------------------------------------------------\u001b[0m",
      "\u001b[0;31mKeyboardInterrupt\u001b[0m                         Traceback (most recent call last)",
      "\u001b[0;32m<ipython-input-5-e825d80b012f>\u001b[0m in \u001b[0;36m<module>\u001b[0;34m\u001b[0m\n\u001b[1;32m     12\u001b[0m         \u001b[0mx\u001b[0m \u001b[0;34m=\u001b[0m \u001b[0mrandom\u001b[0m\u001b[0;34m.\u001b[0m\u001b[0mchoice\u001b[0m\u001b[0;34m(\u001b[0m\u001b[0mgen\u001b[0m\u001b[0;34m)\u001b[0m\u001b[0;34m\u001b[0m\u001b[0;34m\u001b[0m\u001b[0m\n\u001b[1;32m     13\u001b[0m         \u001b[0my\u001b[0m \u001b[0;34m=\u001b[0m \u001b[0mrandom\u001b[0m\u001b[0;34m.\u001b[0m\u001b[0mchoice\u001b[0m\u001b[0;34m(\u001b[0m\u001b[0mgen\u001b[0m\u001b[0;34m)\u001b[0m\u001b[0;34m\u001b[0m\u001b[0;34m\u001b[0m\u001b[0m\n\u001b[0;32m---> 14\u001b[0;31m         \u001b[0mnewgen\u001b[0m\u001b[0;34m.\u001b[0m\u001b[0mappend\u001b[0m\u001b[0;34m(\u001b[0m\u001b[0mCrossover\u001b[0m\u001b[0;34m(\u001b[0m\u001b[0mx\u001b[0m\u001b[0;34m,\u001b[0m \u001b[0my\u001b[0m\u001b[0;34m)\u001b[0m\u001b[0;34m)\u001b[0m\u001b[0;34m\u001b[0m\u001b[0;34m\u001b[0m\u001b[0m\n\u001b[0m\u001b[1;32m     15\u001b[0m \u001b[0;34m\u001b[0m\u001b[0m\n\u001b[1;32m     16\u001b[0m     \u001b[0mtmp\u001b[0m \u001b[0;34m=\u001b[0m \u001b[0mint\u001b[0m\u001b[0;34m(\u001b[0m\u001b[0mmRate\u001b[0m\u001b[0;34m*\u001b[0m\u001b[0;36m100\u001b[0m\u001b[0;34m)\u001b[0m\u001b[0;34m\u001b[0m\u001b[0;34m\u001b[0m\u001b[0m\n",
      "\u001b[0;32m<ipython-input-3-e023cc588754>\u001b[0m in \u001b[0;36mCrossover\u001b[0;34m(x, y)\u001b[0m\n\u001b[1;32m     23\u001b[0m     \u001b[0mmark\u001b[0m \u001b[0;34m=\u001b[0m \u001b[0;34m[\u001b[0m\u001b[0;36m0\u001b[0m\u001b[0;34m]\u001b[0m\u001b[0;34m*\u001b[0m\u001b[0mn\u001b[0m\u001b[0;34m\u001b[0m\u001b[0;34m\u001b[0m\u001b[0m\n\u001b[1;32m     24\u001b[0m \u001b[0;34m\u001b[0m\u001b[0m\n\u001b[0;32m---> 25\u001b[0;31m     \u001b[0mnewx\u001b[0m \u001b[0;34m=\u001b[0m \u001b[0;34m[\u001b[0m\u001b[0;36m0\u001b[0m\u001b[0;34m]\u001b[0m\u001b[0;34m*\u001b[0m\u001b[0mn\u001b[0m\u001b[0;34m\u001b[0m\u001b[0;34m\u001b[0m\u001b[0m\n\u001b[0m\u001b[1;32m     26\u001b[0m \u001b[0;34m\u001b[0m\u001b[0m\n\u001b[1;32m     27\u001b[0m     \u001b[0;32mfor\u001b[0m \u001b[0mk\u001b[0m \u001b[0;32min\u001b[0m \u001b[0mrange\u001b[0m\u001b[0;34m(\u001b[0m\u001b[0mi\u001b[0m\u001b[0;34m,\u001b[0m \u001b[0mj\u001b[0m\u001b[0;34m+\u001b[0m\u001b[0;36m1\u001b[0m\u001b[0;34m)\u001b[0m\u001b[0;34m:\u001b[0m\u001b[0;34m\u001b[0m\u001b[0;34m\u001b[0m\u001b[0m\n",
      "\u001b[0;31mKeyboardInterrupt\u001b[0m: "
     ]
    }
   ],
   "source": [
    "#Crossover and Mutations\n",
    "\n",
    "mRate = 1 #Rate of Mutation\n",
    "\n",
    "for _ in range(200):\n",
    "    if _%50==0:\n",
    "        print(\"I: \", _, \" fitness: \", fitness(gen[0]))\n",
    "        history.append(fitness(gen[0]))\n",
    "        \n",
    "    newgen = []        \n",
    "    for u in range(2*m):\n",
    "        x = random.choice(gen)\n",
    "        y = random.choice(gen)\n",
    "        newgen.append(Crossover(x, y))\n",
    "\n",
    "    tmp = int(mRate*100)\n",
    "    for x in gen:\n",
    "        chance = random.choice(range(101))\n",
    "        if chance >= tmp:\n",
    "            continue\n",
    "\n",
    "        i = random.choice(range(n))\n",
    "        j = random.choice(range(n))\n",
    "        newy = x[:]\n",
    "        newy[i], newy[j] = newy[j], newy[i]\n",
    "        newgen.append(newy)\n",
    "    \n",
    "    for x in newgen:\n",
    "        gen.append(x)\n",
    "    \n",
    "    gen = sorted(gen, key = fitness)\n",
    "    gen = gen[:m]\n",
    "\n",
    "   \n",
    "print(fitness(gen[0]))\n",
    "print(gen[0])"
   ]
  },
  {
   "cell_type": "code",
   "execution_count": 131,
   "metadata": {},
   "outputs": [
    {
     "name": "stdout",
     "output_type": "stream",
     "text": [
      "[16, 21, 10, 18, 24, 6, 22, 7, 26, 15, 12, 23, 0, 27, 5, 11, 8, 25, 2, 28, 4, 20, 1, 19, 9, 3, 14, 17, 13]\n"
     ]
    }
   ],
   "source": [
    "print(gen[0])"
   ]
  },
  {
   "cell_type": "code",
   "execution_count": 113,
   "metadata": {},
   "outputs": [
    {
     "name": "stdout",
     "output_type": "stream",
     "text": [
      "[26860.933906600032, 9300.002093739462, 9300.002093739462, 9300.002093739462]\n"
     ]
    }
   ],
   "source": [
    "print(history)"
   ]
  },
  {
   "cell_type": "code",
   "execution_count": null,
   "metadata": {},
   "outputs": [],
   "source": []
  }
 ],
 "metadata": {
  "kernelspec": {
   "display_name": "Python 3",
   "language": "python",
   "name": "python3"
  },
  "language_info": {
   "codemirror_mode": {
    "name": "ipython",
    "version": 3
   },
   "file_extension": ".py",
   "mimetype": "text/x-python",
   "name": "python",
   "nbconvert_exporter": "python",
   "pygments_lexer": "ipython3",
   "version": "3.8.10"
  }
 },
 "nbformat": 4,
 "nbformat_minor": 4
}
